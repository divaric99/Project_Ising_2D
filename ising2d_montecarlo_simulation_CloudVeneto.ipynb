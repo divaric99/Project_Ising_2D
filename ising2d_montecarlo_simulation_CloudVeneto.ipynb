{
 "cells": [
  {
   "cell_type": "markdown",
   "metadata": {},
   "source": [
    "# **MONTE CARLO METHODS AND FINITE-SIZE ANALYSIS IN PARAMAGNETIC-FERROMAGNETIC MODELS OF PHASE TRANSITION**"
   ]
  },
  {
   "cell_type": "markdown",
   "metadata": {},
   "source": [
    "Authors:\n",
    "* Carlo Divari\n",
    "* Gloria Isotton\n",
    "* Maryam Feizi\n",
    "* Sara Munafò"
   ]
  },
  {
   "cell_type": "code",
   "execution_count": 16,
   "metadata": {},
   "outputs": [],
   "source": [
    "import numpy as np\n",
    "import matplotlib.pyplot as plt"
   ]
  },
  {
   "cell_type": "markdown",
   "metadata": {},
   "source": [
    "# **INTRODUCTION**"
   ]
  },
  {
   "cell_type": "code",
   "execution_count": 17,
   "metadata": {},
   "outputs": [],
   "source": [
    "#introduction"
   ]
  },
  {
   "cell_type": "code",
   "execution_count": 18,
   "metadata": {},
   "outputs": [],
   "source": [
    "#ising"
   ]
  },
  {
   "cell_type": "code",
   "execution_count": 19,
   "metadata": {},
   "outputs": [],
   "source": [
    "#metropolis "
   ]
  },
  {
   "cell_type": "code",
   "execution_count": 20,
   "metadata": {},
   "outputs": [],
   "source": [
    "#blablabla"
   ]
  },
  {
   "cell_type": "markdown",
   "metadata": {},
   "source": [
    "# **SIMULATION OF A 2D ISING MODEL**"
   ]
  },
  {
   "cell_type": "code",
   "execution_count": 21,
   "metadata": {},
   "outputs": [],
   "source": [
    "#define variables of the model\n",
    "L=25            #dimension of the lattice\n",
    "time_f=40 #total time of the mc simulation 40\n",
    "T=2              # temperature in KbT unit\n",
    "J=1              #spin spin interaction\n",
    "kb = 1         # Boltzmann const\n",
    "step=1       # Monte Carlo steps parameter\n",
    "realiz=10     # number of Monte Carlo means\n",
    "nt=30        #number of temperatures points\n",
    "T_c = 2/np.log(1 + np.sqrt(2)) #analytic critical temperature                "
   ]
  },
  {
   "cell_type": "code",
   "execution_count": 22,
   "metadata": {},
   "outputs": [
    {
     "data": {
      "image/png": "[encoded data removed]",
      "text/plain": [
       "<Figure size 432x288 with 1 Axes>"
      ]
     },
     "metadata": {
      "needs_background": "light"
     },
     "output_type": "display_data"
    }
   ],
   "source": [
    "#Create a nxn lattice with random spin configuration\n",
    "def init_lattice(n):\n",
    "    lattice = np.random.choice([1, -1], size=(n, n))\n",
    "    return lattice\n",
    "s=init_lattice(L)\n",
    "\n",
    "#show the lattice as an image (1 spin= 1 pixel)\n",
    "plt.imshow(s)\n",
    "plt.show()"
   ]
  },
  {
   "cell_type": "code",
   "execution_count": 23,
   "metadata": {},
   "outputs": [],
   "source": [
    "#define pbc\n",
    "def bc(i):\n",
    "    if i>L-1: return 0\n",
    "    if i<0: return L-1\n",
    "    else:\n",
    "        return i"
   ]
  },
  {
   "cell_type": "code",
   "execution_count": 74,
   "metadata": {},
   "outputs": [],
   "source": [
    "#Let's define some useful functions\n",
    "\n",
    "def energy(state):\n",
    "    \n",
    "    '''define the energy at a given configuration'''\n",
    "    \n",
    "    N = state.shape[0]\n",
    "    energy = 0\n",
    "  \n",
    "    for i in range(N):\n",
    "        for j in range(N):\n",
    "\n",
    "      # get nearest neighbours states\n",
    "            nn = state[bc(i-1), j] + state[bc(i+1), j] + state[i, bc(j-1)] + state[i, bc(j+1)]\n",
    "            energy +=  -state[i,j] * nn\n",
    "    return energy / (4*L*L)\n",
    "    \n",
    "    \n",
    "def magnetization(state,L):\n",
    "    \n",
    "    '''define the magnetization per site'''\n",
    "    \n",
    "    Magn = np.sum(state)    \n",
    "    return Magn/(L*L)\n",
    "\n",
    "\n",
    "def delta(s,a,b):\n",
    "    \n",
    "    '''define delta E between 2 spin configurations'''\n",
    "\n",
    "    return 2*s[a][b]*(s[a][int(bc(b+1))]+s[a][int(bc(b-1))]+s[int(bc(a+1))][b]+s[int(bc(a-1))][b])   #consider only nearest neighbours\n",
    "\n",
    "def mean_of_last_5(arr):\n",
    "    return sum(arr[-5:]) / 5\n"
   ]
  },
  {
   "cell_type": "markdown",
   "metadata": {},
   "source": [
    "# **PHASE TRANSITION ANALYSIS**"
   ]
  },
  {
   "cell_type": "code",
   "execution_count": 75,
   "metadata": {},
   "outputs": [],
   "source": [
    "# Define Monte Carlo function\n",
    "def mc_step(s,temp,step):\n",
    "    \n",
    "    L=int(s.shape[0])\n",
    "    for i in range(int(L*L/step)):\n",
    "        \n",
    "        # choose a random spin on the grid\n",
    "        a, b =np.random.randint(0,L), np.random.randint(0,L)\n",
    "        \n",
    "        # compute the delta energy before and after the flip of s(a,b)\n",
    "        delta_E=delta(s,a,b)  \n",
    "\n",
    "        # metropolis test and spin-flip\n",
    "        if delta_E <= 0 or np.random.uniform(0, 1) < np.exp(-delta_E/temp):\n",
    "            s[int(bc(a)),int(bc(b))]=-s[int(bc(a)),int(bc(b))]\n",
    "    return s"
   ]
  },
  {
   "cell_type": "code",
   "execution_count": 76,
   "metadata": {},
   "outputs": [
    {
     "name": "stdout",
     "output_type": "stream",
     "text": [
      "0\n",
      "1\n",
      "2\n",
      "3\n",
      "4\n",
      "5\n",
      "6\n",
      "7\n",
      "8\n",
      "9\n",
      "10\n",
      "11\n",
      "12\n",
      "13\n",
      "14\n",
      "15\n",
      "16\n",
      "17\n",
      "18\n",
      "19\n",
      "20\n",
      "21\n",
      "22\n",
      "23\n",
      "24\n",
      "25\n",
      "26\n",
      "27\n",
      "28\n",
      "29\n",
      "0\n",
      "1\n",
      "2\n",
      "3\n",
      "4\n",
      "5\n",
      "6\n",
      "7\n",
      "8\n",
      "9\n",
      "10\n",
      "11\n",
      "12\n",
      "13\n",
      "14\n",
      "15\n",
      "16\n",
      "17\n",
      "18\n",
      "19\n",
      "20\n",
      "21\n",
      "22\n",
      "23\n",
      "24\n",
      "25\n",
      "26\n",
      "27\n",
      "28\n",
      "29\n",
      "0\n",
      "1\n",
      "2\n",
      "3\n",
      "4\n",
      "5\n",
      "6\n",
      "7\n",
      "8\n",
      "9\n",
      "10\n",
      "11\n",
      "12\n",
      "13\n",
      "14\n",
      "15\n",
      "16\n",
      "17\n",
      "18\n",
      "19\n",
      "20\n",
      "21\n",
      "22\n",
      "23\n",
      "24\n",
      "25\n",
      "26\n",
      "27\n",
      "28\n",
      "29\n",
      "[array([0.99935, 0.99665, 0.99225, 0.98025, 0.96075, 0.91585, 0.84095,\n",
      "       0.72265, 0.55365, 0.3586 , 0.21945, 0.2122 , 0.18145, 0.17045,\n",
      "       0.1241 , 0.025  , 0.04575, 0.0762 , 0.043  , 0.09275, 0.08695,\n",
      "       0.05545, 0.053  , 0.0591 , 0.04965, 0.0489 , 0.03495, 0.0658 ,\n",
      "       0.02945, 0.023  ]), array([0.99937778, 0.99653333, 0.99108889, 0.97688889, 0.95144444,\n",
      "       0.91528889, 0.83542222, 0.65975556, 0.52135556, 0.36593333,\n",
      "       0.25415556, 0.18126667, 0.13153333, 0.11693333, 0.1088    ,\n",
      "       0.08555556, 0.07646667, 0.06762222, 0.07295556, 0.0728    ,\n",
      "       0.06197778, 0.05384444, 0.07568889, 0.04813333, 0.05666667,\n",
      "       0.04611111, 0.05035556, 0.05131111, 0.03744444, 0.04244444]), array([0.999175 , 0.99715  , 0.9898125, 0.9808   , 0.9534625, 0.9172875,\n",
      "       0.813575 , 0.69385  , 0.5117125, 0.2932375, 0.2092125, 0.2047125,\n",
      "       0.16115  , 0.1116   , 0.1052625, 0.099425 , 0.0799625, 0.0849375,\n",
      "       0.0623375, 0.078925 , 0.057675 , 0.0677625, 0.074825 , 0.0581125,\n",
      "       0.063775 , 0.0563375, 0.056425 , 0.0416625, 0.049675 , 0.0429375])]\n"
     ]
    }
   ],
   "source": [
    "\n",
    "L_values = np.array([10,20,50,100,1000])\n",
    "E_L,M_L,C_L,Chi_L = [],[],[],[]\n",
    "\n",
    "for L in L_values:\n",
    "    time_f=100\n",
    "    step=1       \n",
    "    realiz=50    \n",
    "    nt=40  \n",
    "    E,M,C,Chi = np.zeros(nt),np.zeros(nt),np.zeros(nt),np.zeros(nt)\n",
    "    Te = np.linspace(1.,7.,nt)\n",
    "    \n",
    "#loop of equilibration\n",
    "    for i in range(nt):\n",
    "        T = Te[i]\n",
    "        magnetizations=np.zeros(time_f)\n",
    "        energies=np.zeros(time_f)\n",
    "        \n",
    "        for r in range(0,realiz):\n",
    "            s=np.ones((L,L))\n",
    "            \n",
    "            for t in range(0,time_f):\n",
    "                m=magnetization(s,L)\n",
    "                magnetizations[t]=magnetizations[t]+m/realiz\n",
    "                energies[t]=energies[t]+energy(s)/realiz\n",
    "                s=mc_step(s, T, step)\n",
    "                \n",
    "    #print(energies/(L*L))\n",
    "    #M[i]=sum(magnetizations[-10:])/10\n",
    "        M[i]=np.mean(magnetizations)\n",
    "        E[i]=np.mean(energies)\n",
    "        C[i] = pow(np.std(energies),2)/(pow(T,2))\n",
    "        Chi[i] = pow(np.std(magnetizations),2)/(T)\n",
    "    M_L.append(M)\n",
    "    E_L.append(E)\n",
    "    C_L.append(C)\n",
    "    Chi_L.append(Chi)\n",
    "    "
   ]
  },
  {
   "cell_type": "code",
   "execution_count": 77,
   "metadata": {},
   "outputs": [],
   "source": [
    "def plot_values (Te,E,M,C,Chi,L):\n",
    "    titles=['Energy','Magnetisation','Specific Heat','Susceptibility']\n",
    "    physical_quantities=[E,M,C,Chi]\n",
    "    col_map = np.array([\"navy\", \"red\", \"green\", \"orange\"])\n",
    "    plt.figure(figsize=(16,10))\n",
    "    for i in range(len(physical_quantities)):\n",
    "        ax=plt.subplot(2,2,i+1)\n",
    "        ax.set_xlabel('Temperature', fontsize=18)\n",
    "        ax.set_ylabel(titles[i], fontsize=18)\n",
    "        ax.set_title(titles[i], fontsize = 20, fontweight = \"bold\" )\n",
    "        ax.grid('--', alpha= 0.7)\n",
    "        for j in range(L_values.shape[0]):\n",
    "            ax.plot(Te, physical_quantities[i][j], '.',markersize=9, label='N='+str(L_values[j]), alpha=0.7)\n",
    "            \n",
    "            ax.legend()\n",
    "        \n",
    "            \n",
    "    plt.subplots_adjust(hspace=0.3)"
   ]
  },
  {
   "cell_type": "code",
   "execution_count": 78,
   "metadata": {},
   "outputs": [
    {
     "data": {
      "image/png": "[encoded data removed]",
      "text/plain": [
       "<Figure size 1152x720 with 4 Axes>"
      ]
     },
     "metadata": {
      "needs_background": "light"
     },
     "output_type": "display_data"
    }
   ],
   "source": [
    "Te = np.linspace(1.,7.,nt)\n",
    "plot_values(Te,E_L,M_L,C_L/(L*L),Chi_L/(L*L),L)"
   ]
  },
  {
   "cell_type": "markdown",
   "metadata": {},
   "source": [
    "# **Equilibrazione (temp)**"
   ]
  },
  {
   "cell_type": "code",
   "execution_count": 8,
   "metadata": {},
   "outputs": [
    {
     "data": {
      "image/png": "[encoded data removed]",
      "text/plain": [
       "<Figure size 432x288 with 1 Axes>"
      ]
     },
     "metadata": {
      "needs_background": "light"
     },
     "output_type": "display_data"
    }
   ],
   "source": [
    "Te = [1,2,3,4,5,6,7]\n",
    "time_f=40\n",
    "realiz=100\n",
    "time=np.linspace(0,time_f,time_f)\n",
    "\n",
    "T=Te[2]\n",
    "mag=np.zeros(time_f)\n",
    "ene=np.zeros(time_f)\n",
    "for r in range(0,realiz):\n",
    "    s=np.ones((L,L))  #ground state\n",
    "    for t in range(0,time_f):\n",
    "        m=magnetization(s,L)\n",
    "        mag[t]=mag[t]+m/realiz\n",
    "        ene[t]=ene[t]+energy(s)/realiz\n",
    "        mc_step(s, T, step)\n",
    "plt.plot(time,ene/(L*L))\n",
    "plt.show()"
   ]
  },
  {
   "cell_type": "code",
   "execution_count": 12,
   "metadata": {},
   "outputs": [
    {
     "name": "stdout",
     "output_type": "stream",
     "text": [
      "-0.4084704\n"
     ]
    }
   ],
   "source": [
    "print(sum(ene[-10:])/(10*L*L))"
   ]
  },
  {
   "cell_type": "markdown",
   "metadata": {},
   "source": [
    "# **PREVIOUS CODE (working)**"
   ]
  },
  {
   "cell_type": "code",
   "execution_count": 117,
   "metadata": {},
   "outputs": [
    {
     "name": "stdout",
     "output_type": "stream",
     "text": [
      "0\n",
      "1\n",
      "2\n",
      "3\n",
      "4\n",
      "5\n",
      "6\n",
      "7\n",
      "8\n",
      "9\n",
      "10\n",
      "11\n",
      "12\n",
      "13\n",
      "14\n"
     ]
    }
   ],
   "source": [
    "E = np.zeros(nt)\n",
    "M = np.zeros(nt)\n",
    "C = np.zeros(nt)\n",
    "Chi = np.zeros(nt)\n",
    "Te = np.linspace(1.,7.,nt)\n",
    "    \n",
    "for i in range(len(Te)):\n",
    "    T=Te[i]\n",
    "    mag=np.zeros(time_f)\n",
    "    ene=np.zeros(time_f)\n",
    "    for r in range(0,realiz):\n",
    "        s=np.ones((L,L))  #ground state\n",
    "        for t in range(0,time_f):\n",
    "            m=magnetization(s,L)\n",
    "            mag[t]=mag[t]+m/realiz\n",
    "            ene[t]=ene[t]+energy(s)/realiz\n",
    "            mc_step(s, T, step)\n",
    "\n",
    "    #keep trace of energy and magnetisation\n",
    "    M[i]=mag[time_f-1]\n",
    "    E[i]=np.mean(ene,axis=0)/(L*L)\n",
    "    C[i] = pow(np.std(ene),2)/(pow(L,2)*pow(T,2))\n",
    "    Chi[i] = pow(np.std(mag),2)/(pow(L,2)*T)\n",
    "    print(i)"
   ]
  }
 ],
 "metadata": {
  "kernelspec": {
   "display_name": "Python 3 (ipykernel)",
   "language": "python",
   "name": "python3"
  },
  "language_info": {
   "codemirror_mode": {
    "name": "ipython",
    "version": 3
   },
   "file_extension": ".py",
   "mimetype": "text/x-python",
   "name": "python",
   "nbconvert_exporter": "python",
   "pygments_lexer": "ipython3",
   "version": "3.9.12"
  }
 },
 "nbformat": 4,
 "nbformat_minor": 4
}
